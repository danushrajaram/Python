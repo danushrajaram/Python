{
  "nbformat": 4,
  "nbformat_minor": 0,
  "metadata": {
    "colab": {
      "private_outputs": true,
      "provenance": []
    },
    "kernelspec": {
      "name": "python3",
      "display_name": "Python 3"
    },
    "language_info": {
      "name": "python"
    }
  },
  "cells": [
    {
      "cell_type": "markdown",
      "source": [
        "Exercise: Functions in python"
      ],
      "metadata": {
        "id": "qC5iWVNOBMc-"
      }
    },
    {
      "cell_type": "markdown",
      "source": [
        "\n",
        "Write a function called calculate_area that takes base and height as an input and returns and area of a triangle.\n",
        "\n",
        "Equation of an area of a triangle is,\n",
        "area = (1/2)*base*height"
      ],
      "metadata": {
        "id": "dNckVfD_BOC9"
      }
    },
    {
      "cell_type": "code",
      "source": [
        "def calculate_area(base, height):\n",
        "    area = 1 / 2 * base * height  # Corrected this line\n",
        "    return area\n",
        "\n",
        "result = calculate_area(4, 32)\n",
        "print(result)"
      ],
      "metadata": {
        "id": "BnX3QV1vBOpl"
      },
      "execution_count": null,
      "outputs": []
    },
    {
      "cell_type": "markdown",
      "source": [
        "Modify above function to take third parameter shape type. It can be either \"triangle\" or \"rectangle\". Based on shape type it will calculate area.\n",
        "Equation of rectangle's area is,\n",
        "rectangle area=length*width\n",
        "If no shape is supplied then it should take triangle as a default shape"
      ],
      "metadata": {
        "id": "Imv2z1_aB8-k"
      }
    },
    {
      "cell_type": "code",
      "source": [
        "def calculate_area(base, height, shape='triangle'):\n",
        "    if shape == \"triangle\":\n",
        "        area = 1 / 2 * base * height\n",
        "        return area\n",
        "    elif shape == \"rectangle\":\n",
        "        area = base * height\n",
        "        return area\n",
        "    else:\n",
        "        return \"Unsupported shape\"\n",
        "\n",
        "# Calling the function and printing the result\n",
        "result = calculate_area(4, 4,\"rectangle\")\n",
        "print(result)\n"
      ],
      "metadata": {
        "id": "wafY39SGB8NF"
      },
      "execution_count": null,
      "outputs": []
    },
    {
      "cell_type": "markdown",
      "source": [
        "***"
      ],
      "metadata": {
        "id": "X6Cufg__DIEu"
      }
    },
    {
      "cell_type": "code",
      "source": [
        "# Write a function called print_pattern that takes integer number as an argument and prints following pattern if input number is 3,\n",
        "# *\n",
        "# **\n",
        "# ***\n",
        "# if input is 4 then it should print\n",
        "\n",
        "# *\n",
        "# **\n",
        "# ***\n",
        "# ****\n",
        "# Basically number of lines it prints is equal to that number. (Hint: you need to use two for loops)"
      ],
      "metadata": {
        "id": "D4N2n71oDHGd"
      },
      "execution_count": null,
      "outputs": []
    },
    {
      "cell_type": "code",
      "source": [
        "def print_pattern(n):\n",
        "\n",
        "    for i in range(1, n + 1):  # Runs from 1 to n\n",
        "        for j in range(i):  # Runs i times to print i stars\n",
        "            print('*', end='')  # Print stars on the same line\n",
        "        print()\n",
        "\n",
        "# Example Usage\n",
        "print(\"Pattern for n = 3:\")\n",
        "print_pattern(3)\n",
        "\n",
        "print(\"\\nPattern for n = 4:\")\n",
        "print_pattern(4)\n"
      ],
      "metadata": {
        "id": "n-gDlcuvDcP0"
      },
      "execution_count": null,
      "outputs": []
    },
    {
      "cell_type": "code",
      "source": [],
      "metadata": {
        "id": "55zJUy7-EYSc"
      },
      "execution_count": null,
      "outputs": []
    }
  ]
}