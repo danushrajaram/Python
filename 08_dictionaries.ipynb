{
  "nbformat": 4,
  "nbformat_minor": 0,
  "metadata": {
    "colab": {
      "private_outputs": true,
      "provenance": []
    },
    "kernelspec": {
      "name": "python3",
      "display_name": "Python 3"
    },
    "language_info": {
      "name": "python"
    }
  },
  "cells": [
    {
      "cell_type": "markdown",
      "source": [
        "Exercise: Functions in python"
      ],
      "metadata": {
        "id": "qC5iWVNOBMc-"
      }
    },
    {
      "cell_type": "markdown",
      "source": [
        "1. We have following information on countries and their population (population is in crores),\n",
        "\n",
        "|Country|Population| |-------|----------| |China|143| |India|136| |USA|32| |Pakistan|21|\n",
        "\n",
        "A. Using above create a dictionary of countries and its population\n",
        "\n",
        "B.Write a program that asks user for three type of inputs,\n",
        "\n",
        "a. print: if user enter print then it should print all countries with their population in this format,\n",
        "china==>143\n",
        "india==>136\n",
        "usa==>32\n",
        "pakistan==>21\n",
        "\n",
        "B.add: if user input add then it should further ask for a country name to add.\n",
        "\n",
        "If country already exist in our dataset then it should print that it exist and do nothing.\n",
        "\n",
        "If it doesn't then it asks for population and add that new country/population in our dictionary and print it\n",
        "\n",
        "C.remove: when user inputs remove it should ask for a country to remove.\n",
        "\n",
        "If country exist in our dictionary then remove it and print new dictionary using format shown above in (a). Else print that country doesn't exist!\n",
        "\n",
        "D.query: on this again ask user for which country he or she wants to query.\n",
        "\n",
        "When user inputs that country it will print population of that country."
      ],
      "metadata": {
        "id": "dNckVfD_BOC9"
      }
    },
    {
      "cell_type": "code",
      "source": [
        "my_dict = {'China': 143, 'India': 136, 'USA': 32, 'Pakistan': 21}\n",
        "\n",
        "ip = input(\"Enter any one of the supported inputs (print, add, remove, or query): \")\n",
        "print(f\"Selected Option: {ip}\")\n",
        "\n",
        "# Print all countries and populations\n",
        "if ip == 'print':\n",
        "    for i, j in my_dict.items():\n",
        "        print(f\"{i} ==> {j}\")\n",
        "\n",
        "# Add a new country and population\n",
        "elif ip == 'add':\n",
        "    new = input(\"Enter the Country name: \")\n",
        "    if new in my_dict:\n",
        "        print(f\"{new} already exists.\")\n",
        "    else:\n",
        "        try:\n",
        "            new_population = int(input(\"Enter the Country's population: \"))\n",
        "            my_dict[new] = new_population\n",
        "            print(f\"Updated Dictionary: {my_dict}\")\n",
        "        except ValueError:\n",
        "            print(\"Please enter a valid number for population!\")\n",
        "\n",
        "# Remove a country from the dictionary\n",
        "elif ip == 'remove':\n",
        "    remov = input(\"Enter the Country name: \")\n",
        "    if remov in my_dict:\n",
        "        print(f\"Deleting {remov} from the dataset.\")\n",
        "        del my_dict[remov]\n",
        "        for i, j in my_dict.items():\n",
        "            print(f\"{i} ==> {j}\")\n",
        "    else:\n",
        "        print(\"Country doesn't exist!\")\n",
        "\n",
        "# Query the population of a country\n",
        "elif ip == 'query':\n",
        "    qry = input(\"Enter the Country name: \")\n",
        "    population = my_dict.get(qry, \"Country not found!\")\n",
        "    print(f\"The population of the queried country is {population} crores.\")\n",
        "\n",
        "# Handle unsupported input\n",
        "else:\n",
        "    print(\"Unsupported input! Please enter print, add, remove, or query.\")\n"
      ],
      "metadata": {
        "id": "yxLIqF3-GP12"
      },
      "execution_count": null,
      "outputs": []
    },
    {
      "cell_type": "markdown",
      "source": [
        "2. You are given following list of stocks and their prices in last 3 days,\n",
        "\n",
        "|Stock|Prices| |-------|----------| |info|[600,630,620]| |ril|[1430,1490,1567]| |mtl|[234,180,160]|\n",
        "\n",
        "Write a program that asks user for operation. Value of operations could be,\n",
        "print: When user enters print it should print following,\n",
        "info ==> [600, 630, 620] ==> avg:  616.67\n",
        "ril ==> [1430, 1490, 1567] ==> avg:  1495.67\n",
        "mtl ==> [234, 180, 160] ==> avg:  191.33\n",
        "add: When user enters 'add', it asks for stock ticker and price.\n",
        "If stock already exist in your list (like info, ril etc) then it will append the price to the list.\n",
        "Otherwise it will create new entry in your dictionary. For example entering 'tata' and 560 will add tata ==> [560] to the dictionary of stocks.\n"
      ],
      "metadata": {
        "id": "w82Zuj02TiXF"
      }
    },
    {
      "cell_type": "code",
      "source": [
        "my_dict = {'info': [600, 630, 620], 'ril': [1430, 1490, 1567], 'mtl': [234, 180, 160]}\n",
        "\n",
        "# Ensure sum() is not shadowed by any variable\n",
        "try:\n",
        "    del sum  # Remove any previous variable named sum\n",
        "except NameError:\n",
        "    pass  # If sum is not defined as a variable, ignore\n",
        "\n",
        "ip = input(\"Enter any one of the supported inputs (print or add): \")\n",
        "print(f\"Enter any one of the supported inputs print or add: {ip}\")\n",
        "\n",
        "if ip == 'print':\n",
        "    total = 0  # Ensure sum is not used as a variable name\n",
        "\n",
        "    for key, values in my_dict.items():\n",
        "        total = sum(values)  # sum() function is safe to use now\n",
        "        avg = total / len(values)\n",
        "        print(f\"{key} ==> {values} ==> avg: {avg}\")  # Fix avg to print correctly\n",
        "\n",
        "elif ip == 'add':\n",
        "    stock_name = input(\"Enter the stock name: \")\n",
        "    prices = input(\"Enter the stock prices separated by commas: \")\n",
        "\n",
        "    # Convert the input prices into a list of integers\n",
        "    price_list = [int(price.strip()) for price in prices.split(\",\")]\n",
        "\n",
        "    if stock_name in my_dict:\n",
        "        my_dict[stock_name].extend(price_list)\n",
        "    else:\n",
        "        my_dict[stock_name] = price_list\n",
        "\n",
        "    print(f\"Updated Dictionary: {my_dict}\")\n",
        "else:\n",
        "    print(\"Invalid input. Please enter either 'print' or 'add'.\")\n"
      ],
      "metadata": {
        "id": "RRJbl5miLeui"
      },
      "execution_count": null,
      "outputs": []
    },
    {
      "cell_type": "code",
      "source": [
        "# Write circle_calc() function that takes radius of a circle as an input from user and then it calculates\n",
        "# and returns area, circumference and diameter.\n",
        "# You should get these values in your main program by calling circle_calc function and then print them\n",
        "\n",
        "import math\n",
        "\n",
        "def circle_calc(radius):\n",
        "    area=math.pi*(radius**2)\n",
        "    circumference=2*math.pi*radius\n",
        "    diameter=2*radius\n",
        "    return area, circumference,diameter\n",
        "\n",
        "if __name__==\"__main__\":\n",
        "    r=input(\"Enter a radius:\")\n",
        "    r=float(r)\n",
        "    area, c, d = circle_calc(r)\n",
        "    print(f\"area {area}.2f, circumference {c}, diameter {d}\")"
      ],
      "metadata": {
        "id": "eeD9ulgCQ4BV"
      },
      "execution_count": null,
      "outputs": []
    },
    {
      "cell_type": "code",
      "source": [],
      "metadata": {
        "id": "DPFd5FlERdnC"
      },
      "execution_count": null,
      "outputs": []
    }
  ]
}