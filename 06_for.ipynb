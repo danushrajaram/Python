{
  "nbformat": 4,
  "nbformat_minor": 0,
  "metadata": {
    "colab": {
      "private_outputs": true,
      "provenance": []
    },
    "kernelspec": {
      "name": "python3",
      "display_name": "Python 3"
    },
    "language_info": {
      "name": "python"
    }
  },
  "cells": [
    {
      "cell_type": "code",
      "source": [
        "# ## Exercise: Python for loop\n",
        "# 1. After flipping a coin 10 times you got this result,\n",
        "# ```\n",
        "# result = [\"heads\",\"tails\",\"tails\",\"heads\",\"tails\",\"heads\",\"heads\",\"tails\",\"tails\",\"tails\"]\n",
        "# ```\n",
        "# Using for loop figure out how many times you got heads\n",
        "print(\"\\nExercise 1\\n\")\n",
        "result = [\"heads\",\"tails\",\"tails\",\"heads\",\"tails\",\"heads\",\"heads\",\"tails\",\"tails\",\"tails\"]\n",
        "count=0\n",
        "for i in result:\n",
        "  if i==\"heads\":\n",
        "    count+=1\n",
        "print(count)\n"
      ],
      "metadata": {
        "id": "AmZRVHLg6Vr9"
      },
      "execution_count": null,
      "outputs": []
    },
    {
      "cell_type": "code",
      "source": [
        "# 2. Print square of all numbers between 1 to 10 except even numbers\n",
        "print(\"\\nExercise 2\\n\")\n",
        "for n in range(1,11):\n",
        "  if n%2==0:\n",
        "    continue\n",
        "  print(n**2)"
      ],
      "metadata": {
        "id": "sJponRq00yMr"
      },
      "execution_count": null,
      "outputs": []
    },
    {
      "cell_type": "code",
      "source": [
        "# 3. Your monthly expense list (from Jan to May) looks like this,\n",
        "# ```\n",
        "# expense_list = [2340, 2500, 2100, 3100, 2980]\n",
        "\n",
        "# Write a program that asks you to enter an expense amount and program\n",
        "\n",
        "# should tell you in which month that expense occurred. If expense is not\n",
        "\n",
        "# found then it should print that as well.\n",
        "print(\"\\nExercise 3\\n\")\n",
        "month_list = [\"January\", \"February\", \"March\", \"April\", \"May\"]\n",
        "expense_list = [2340, 2500, 2100, 3100, 2980]\n",
        "e = int(input(\"Enter expense amount: \"))\n",
        "\n",
        "month = -1\n",
        "for i in range(len(expense_list)):\n",
        "    if e == expense_list[i]:\n",
        "        month = i\n",
        "        break\n",
        "\n",
        "if month != -1:\n",
        "    print(f'You spent {e} in {month_list[month]}')\n",
        "else:\n",
        "    print(f'You didn\\'t spend {e} in any month')"
      ],
      "metadata": {
        "id": "Vm_H7B3o7EPs"
      },
      "execution_count": null,
      "outputs": []
    },
    {
      "cell_type": "code",
      "source": [
        "# List of expenses from January to May\n",
        "expense_list = [2340, 2500, 2100, 3100, 2980]\n",
        "\n",
        "# List of corresponding months\n",
        "months = [\"January\", \"February\", \"March\", \"April\", \"May\"]\n",
        "\n",
        "# Ask user to enter an expense amount\n",
        "expense = int(input(\"Enter the expense amount: \"))\n",
        "\n",
        "# Check if the expense is in the list\n",
        "if expense in expense_list:\n",
        "    # Find the index of the expense and get the corresponding month\n",
        "    month_index = expense_list.index(expense)\n",
        "    print(f\"The expense of {expense} occurred in {months[month_index]}.\")\n",
        "else:\n",
        "    print(\"Expense not found in the list.\")\n"
      ],
      "metadata": {
        "id": "9XWudsxs9jxV"
      },
      "execution_count": null,
      "outputs": []
    },
    {
      "cell_type": "code",
      "source": [
        "\n",
        "# 4. Lets say you are running a 5 km race. Write a program that,\n",
        "#    1. Upon completing each 1 km asks you \"are you tired?\"\n",
        "#    2. If you reply \"yes\" then it should break and print \"you didn't finish the race\"\n",
        "#    3. If you reply \"no\" then it should continue and ask \"are you tired\" on every km\n",
        "#    4. If you finish all 5 km then it should print congratulations message\n",
        "print(\"\\nExercise 4\\n\")\n",
        "\n",
        "for i in range(5):\n",
        "    print(f\"You ran {i + 1} km.\")\n",
        "    tired = input(\"Are you tired? (yes/no): \")  # Take user input here\n",
        "    if tired.lower() == \"yes\":  # Convert input to lowercase for consistency\n",
        "        print(\"You didn't finish the race.\")\n",
        "        break\n",
        "    elif tired.lower() == \"no\":\n",
        "        continue  # Continue to the next km if not tired\n",
        "    else:\n",
        "        print(\"Please answer with 'yes' or 'no'.\")  # Handle invalid input\n",
        "        break  # End the race if invalid input is given\n",
        "\n",
        "if i==4: # 4 because the index starts from 0\n",
        "    print(\"Hurray! You are a rock star! You just finished 5 km race!\")\n",
        "else:\n",
        "    print(f\"You didn't finish 5 km race but hey congrats anyways! You still ran {i+1} miles\")\n"
      ],
      "metadata": {
        "id": "l3DWR1hX7-oN"
      },
      "execution_count": null,
      "outputs": []
    },
    {
      "cell_type": "code",
      "source": [
        "print(\"\\nExercise 4\\n\")\n",
        "\n",
        "for i in range(5):\n",
        "    print(f\"You ran {i+1} miles\") # i starts with zero hence adding 1\n",
        "    tired = input(\"Are you tired? \")\n",
        "    if tired == 'yes':\n",
        "        break\n",
        "\n",
        "if i==4: # 4 because the index starts from 0\n",
        "    print(\"Hurray! You are a rock star! You just finished 5 km race!\")\n",
        "else:\n",
        "    print(f\"You didn't finish 5 km race but hey congrats anyways! You still ran {i+1} miles\")"
      ],
      "metadata": {
        "id": "6MEDzMwD_XId"
      },
      "execution_count": null,
      "outputs": []
    },
    {
      "cell_type": "code",
      "source": [
        "\n",
        "\n",
        "# 5. Write a program that prints following shape\n",
        "# ```\n",
        "# *\n",
        "# **\n",
        "# ***\n",
        "# ****\n",
        "# *****\n",
        "# ```\n",
        "print(\"\\nExercise 5\\n\")\n",
        "for i in range(1, 6):\n",
        "    s = ''  # Initialize an empty string for each row\n",
        "    for j in range(i):  # Inner loop to add stars based on current row number\n",
        "        s += '*'\n",
        "    print(' ' + s)  # Print each row with an extra leading space for indentation\n"
      ],
      "metadata": {
        "id": "VoTeew4o9ybx"
      },
      "execution_count": null,
      "outputs": []
    }
  ]
}