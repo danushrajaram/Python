{
  "nbformat": 4,
  "nbformat_minor": 0,
  "metadata": {
    "colab": {
      "private_outputs": true,
      "provenance": []
    },
    "kernelspec": {
      "name": "python3",
      "display_name": "Python 3"
    },
    "language_info": {
      "name": "python"
    }
  },
  "cells": [
    {
      "cell_type": "markdown",
      "source": [
        "Q1. Using following list of cities per country,\n",
        "\n",
        "india = [\"mumbai\", \"banglore\", \"chennai\", \"delhi\"]\n",
        "pakistan = [\"lahore\",\"karachi\",\"islamabad\"]\n",
        "bangladesh = [\"dhaka\", \"khulna\", \"rangpur\"]\n",
        "1. Write a program that asks user to enter a city name and it should tell which country the city belongs to\n",
        "\n",
        "2. Write a program that asks user to enter two cities and it tells you if they both are in same country or not. For example if I enter mumbai and chennai, it will print \"Both cities are in India\" but if I enter mumbai and dhaka it should print \"They don't belong to same country\""
      ],
      "metadata": {
        "id": "_UKjNM_AzKj8"
      }
    },
    {
      "cell_type": "code",
      "source": [
        "india = [\"mumbai\", \"banglore\", \"chennai\", \"delhi\"]\n",
        "pakistan = [\"lahore\",\"karachi\",\"islamabad\"]\n",
        "bangladesh = [\"dhaka\", \"khulna\", \"rangpur\"]"
      ],
      "metadata": {
        "id": "sJponRq00yMr"
      },
      "execution_count": null,
      "outputs": []
    },
    {
      "cell_type": "code",
      "source": [
        "input_city = input(\"Enter a city name \")\n",
        "print(f\"City Name: {input_city}\")\n",
        "\n",
        "if input_city in india:\n",
        "  print(f\"The city {input_city} is kIndia\")\n",
        "elif input_city in pakistan:\n",
        "  print(f\"The city {input_city} is pakistan\")\n",
        "elif input_city in bangladesh:\n",
        "  print(f\"The city {input_city} is bangladesh\")\n",
        "else:\n",
        "  print(\"The city {input_city} is  not in these 3 countries\")"
      ],
      "metadata": {
        "id": "eSO5g7o301v0"
      },
      "execution_count": null,
      "outputs": []
    },
    {
      "cell_type": "code",
      "source": [
        "india = [\"mumbai\", \"banglore\", \"chennai\", \"delhi\"]\n",
        "pakistan = [\"lahore\", \"karachi\", \"islamabad\"]\n",
        "bangladesh = [\"dhaka\", \"khulna\", \"rangpur\"]\n",
        "\n",
        "city1 = input(\"Enter city 1: \")\n",
        "city2 = input(\"Enter city 2: \")\n",
        "\n",
        "if city1 in india and city2 in india:\n",
        "    print(\"Both cities are in india\")\n",
        "elif city1 in pakistan and city2 in pakistan:\n",
        "    print(\"Both cities are in pakistan\")\n",
        "elif city1 in bangladesh and city2 in bangladesh:\n",
        "    print(\"Both cities are in bangladesh\")\n",
        "else:\n",
        "    print(\"They don't belong to same country\")"
      ],
      "metadata": {
        "id": "ejNNYAJj16Fk"
      },
      "execution_count": null,
      "outputs": []
    },
    {
      "cell_type": "markdown",
      "source": [
        " Exercise: Python If Condition\n",
        " 2. Write a python program that can tell you if your sugar is normal or not. Normal fasting level sugar range is 80 to 100.\n",
        "     1. Ask user to enter his fasting sugar level\n",
        "     2. If it is below 80 to 100 range then print that sugar is low\n",
        "     3. If it is above 100 then print that it is high otherwise print that it is normal"
      ],
      "metadata": {
        "id": "2bUnjGB63bMN"
      }
    },
    {
      "cell_type": "code",
      "source": [
        "fasting_sugarlevel = float(input(\"Enter the fasting sugar level: \"))\n",
        "if fasting_sugarlevel < 80:\n",
        "    print(\"The sugar level is low\")\n",
        "elif fasting_sugarlevel > 100:\n",
        "    print(\"The sugar level is high\")\n",
        "elif 80 <= fasting_sugarlevel <= 100:\n",
        "    print(\"The sugar level is normal\")"
      ],
      "metadata": {
        "id": "P35q77bC3NHt"
      },
      "execution_count": null,
      "outputs": []
    }
  ]
}