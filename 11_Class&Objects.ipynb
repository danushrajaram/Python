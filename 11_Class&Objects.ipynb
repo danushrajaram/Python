{
  "nbformat": 4,
  "nbformat_minor": 0,
  "metadata": {
    "colab": {
      "private_outputs": true,
      "provenance": []
    },
    "kernelspec": {
      "name": "python3",
      "display_name": "Python 3"
    },
    "language_info": {
      "name": "python"
    }
  },
  "cells": [
    {
      "cell_type": "markdown",
      "source": [
        "Exercise: Class and Objects\n",
        "Create a sample class named Employee with two attributes id and name\n",
        "\n",
        "employee :\n",
        "    \n",
        "    id\n",
        "    name\n",
        "\n",
        "object initializes id and name dynamically for every Employee object created.\n",
        "\n",
        "    emp = Employee(1, \"coder\")\n",
        "\n",
        "Use del property to first delete id attribute and then the entire object\n",
        "Solution"
      ],
      "metadata": {
        "id": "0AyCnTLVilYS"
      }
    },
    {
      "cell_type": "code",
      "source": [
        "class Employee:\n",
        "    def __init__(self, id, name):\n",
        "        self.name = name\n",
        "        self.id = id\n",
        "\n",
        "    def self_display(self):\n",
        "        print(f\"ID is {self.id} and the name of the employee is {self.name}\")\n",
        "\n",
        "e = Employee(1, \"Danush\")\n",
        "e.self_display()"
      ],
      "metadata": {
        "id": "CVmUs8Eqisuh"
      },
      "execution_count": null,
      "outputs": []
    },
    {
      "cell_type": "code",
      "source": [
        "class Employee:\n",
        "\n",
        "    def __init__(self, id, name):\n",
        "        self.id = id\n",
        "        self.name = name\n",
        "\n",
        "    def display(self):\n",
        "        print(f\"ID: {self.id} \\nName: {self.name}\")\n",
        "\n",
        "emp = Employee(1, \"coder\")\n",
        "emp.display()\n",
        "\n",
        "# Del the property of the object emp - id\n",
        "del emp.id\n",
        "\n",
        "# Try to acces the deleted property id of emp\n",
        "try:\n",
        "    print(emp.id)\n",
        "except AttributeError:  # Correct exception for missing attributes\n",
        "    print(\"emp.id is not defined\")  # Corrected message\n",
        "\n",
        "# Deleting the object itself\n",
        "del emp\n",
        "\n",
        "# Trying to access deleted object\n",
        "try:\n",
        "    emp.display()  # Will give error after deleting emp\n",
        "except NameError:\n",
        "    print(\"emp is not defined\")  # Correct handling for deleted object\n",
        "except AttributeError:\n",
        "    print(\"emp has been deleted and cannot be accessed\")\n",
        "\n",
        "# Recreating the emp object\n",
        "emp = Employee(2, \"Danush\")\n",
        "emp.display()\n",
        "\n",
        "# Properly deleting the object\n",
        "del emp  # Fixed this line\n",
        "\n",
        "# Trying to access emp after deletion\n",
        "try:\n",
        "    emp.display()\n",
        "except NameError:\n",
        "    print(\"emp is not defined after deletion.\")\n",
        "except AttributeError:\n",
        "    print(\"emp has been deleted and cannot be accessed\")\n"
      ],
      "metadata": {
        "id": "vTwkjCvRivLg"
      },
      "execution_count": null,
      "outputs": []
    }
  ]
}