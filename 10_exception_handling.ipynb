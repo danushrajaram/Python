{
  "nbformat": 4,
  "nbformat_minor": 0,
  "metadata": {
    "colab": {
      "private_outputs": true,
      "provenance": []
    },
    "kernelspec": {
      "name": "python3",
      "display_name": "Python 3"
    },
    "language_info": {
      "name": "python"
    }
  },
  "cells": [
    {
      "cell_type": "markdown",
      "source": [
        "Exercise: Raise Exception And Finally\n",
        "\n",
        "1. Create a custom exception AdultException.\n",
        "\n",
        "2. Create a class Person with attributes name and age in it.\n",
        "\n",
        "3. Create a function get_minor_age() in the class. It throws an exception if the person is adult otherwise returns age.\n",
        "\n",
        "4. Create a function display_person() which prints the age and name of a person."
      ],
      "metadata": {
        "id": "LQNyTQJqL3pm"
      }
    },
    {
      "cell_type": "code",
      "source": [
        "x=int(input(\"Enter the number x \"))\n",
        "y=int(input(\"Enter the number y \"))\n",
        "try:\n",
        "  z=int(x)/int(y)\n",
        "except Exception as e:\n",
        "  print(\"Exception has occured\",e)\n",
        "  z=None\n",
        "except Exception as e:\n",
        "  print('exception as type: ',type(e).__name__)\n",
        "  z=None\n",
        "\n",
        "print(\"division\",z)"
      ],
      "metadata": {
        "id": "pps4L6byYZ4K"
      },
      "execution_count": null,
      "outputs": []
    },
    {
      "cell_type": "code",
      "source": [
        "x=input(\"Enter the number x \")\n",
        "y=input(\"Enter the number y \")\n",
        "try:\n",
        "  z=int(x)/int(y)\n",
        "except ZeroDivisionError as e:\n",
        "  print(\"Division By Error\",e)\n",
        "  z=None\n",
        "except Exception as e:\n",
        "  print('exception as type: ',type(e).__name__)\n",
        "  z=None\n",
        "\n",
        "print(\"division\",z)"
      ],
      "metadata": {
        "id": "Wpx20CWzcCTF"
      },
      "execution_count": null,
      "outputs": []
    },
    {
      "cell_type": "code",
      "source": [
        "class AdultException (Exception):\n",
        "    pass\n",
        "\n",
        "\n",
        "class Person:\n",
        "    def __init__ (self, name, age):\n",
        "        self.name = name\n",
        "        self.age = age\n",
        "\n",
        "    def get_minor_age(self):\n",
        "        if int(self.age) > 18:\n",
        "            raise AdultException(\"The person is an adult\")\n",
        "        else:\n",
        "            return self.age\n",
        "\n",
        "    def display_person(self):\n",
        "        try:\n",
        "            print(f\"Age: {self.get_minor_age()}\")\n",
        "        except AdultException as e:\n",
        "            print(f\"Exception: {e}\")\n",
        "        finally:\n",
        "            print(f\"Name: {self.name}\\n\")\n",
        "\n",
        "person1 = Person('Rohit',2)\n",
        "print(\"Person 1\")\n",
        "person1.display_person()\n",
        "\n",
        "person2 = Person('Karthick',19)\n",
        "print(\"Person 2\")\n",
        "person2.display_person()"
      ],
      "metadata": {
        "id": "2FxGt_AWLmoy"
      },
      "execution_count": null,
      "outputs": []
    },
    {
      "cell_type": "markdown",
      "source": [
        "**🏋️‍♂️ Exercise: Bank Account Management with Exceptions**\n",
        "\n",
        "1. Create a custom exception:\n",
        "\n",
        "InsufficientFundsException for handling withdrawal attempts exceeding the balance.\n",
        "NegativeAmountException for handling deposits or withdrawals of negative amounts.\n",
        "\n",
        "2. Create a class BankAccount with:\n",
        "\n",
        "Attributes: account_holder (name), balance (default is 0).\n",
        "A constructor to initialize these attributes.\n",
        "\n",
        "3. Create methods in BankAccount:\n",
        "\n",
        "deposit(amount):\n",
        "Raises NegativeAmountException if the amount is negative.\n",
        "Adds the amount to the balance if valid.\n",
        "withdraw(amount):\n",
        "Raises NegativeAmountException if the amount is negative.\n",
        "Raises InsufficientFundsException if the amount exceeds the balance.\n",
        "Deducts the amount from the balance if valid.\n",
        "\n",
        "4. Create a function display_balance():\n",
        "\n",
        "Prints the account holder's name and the current balance.\n",
        "5. Use try, except, and finally:\n",
        "\n",
        "Wrap the deposit and withdraw methods in try blocks.\n",
        "Catch custom exceptions in except blocks.\n",
        "Use finally to print a message indicating the end of the transaction."
      ],
      "metadata": {
        "id": "0dXpBwdSNcLV"
      }
    },
    {
      "cell_type": "code",
      "source": [
        "class InsufficientFundsException(Exception):\n",
        "    def __init__(self, message):\n",
        "        super().__init__(message)\n",
        "\n",
        "# Creating NegativeAmountException\n",
        "class NegativeAmountException(Exception):\n",
        "    def __init__(self, message):\n",
        "        super().__init__(message)\n",
        "\n",
        "class BankAccount:\n",
        "    def __init__(self, accountholder_name, balance=0):\n",
        "        self.accountholder_name = accountholder_name\n",
        "        self.balance = balance\n",
        "\n",
        "    def deposit(self, amount):\n",
        "        if amount < 0:\n",
        "            raise NegativeAmountException(\"Cannot deposit a negative amount!\")\n",
        "        self.balance += amount\n",
        "        print(f\"The Balance added from the amount you deposited is {amount}\")\n",
        "        print(f\"Total Balance is now {self.balance}\")\n",
        "\n",
        "    def withdraw(self, amount):\n",
        "        if amount < 0:\n",
        "            raise NegativeAmountException(\"Cannot withdraw a negative amount!\")\n",
        "        if amount > self.balance:\n",
        "            raise InsufficientFundsException(\"Insufficient funds!\")\n",
        "        self.balance -= amount\n",
        "        print(f\"Withdrawn: {amount}\")\n",
        "        print(f\"Total Balance is now {self.balance}\")\n",
        "\n",
        "    def get_balance(self):\n",
        "        return self.balance\n",
        "\n",
        "# Creating a BankAccount object\n",
        "b = BankAccount(\"Ravi\", 500)\n",
        "print(f\"Initial Balance: {b.get_balance()}\")\n",
        "\n",
        "# Testing deposit\n",
        "try:\n",
        "    b.deposit(200)  # Correct deposit\n",
        "    b.deposit(-100)  # Should raise NegativeAmountException\n",
        "except NegativeAmountException as e:\n",
        "    print(f\"Error: {e}\")\n",
        "\n",
        "# Testing withdrawal\n",
        "try:\n",
        "    b.withdraw(100)  # Correct withdrawal\n",
        "    b.withdraw(700)  # Should raise InsufficientFundsException\n",
        "except (NegativeAmountException, InsufficientFundsException) as e:\n",
        "    print(f\"Error: {e}\")\n",
        "\n",
        "# Final Balance\n",
        "print(f\"\\nFinal Balance: {b.get_balance()}\")\n"
      ],
      "metadata": {
        "id": "lVbyStW4NhQd"
      },
      "execution_count": null,
      "outputs": []
    },
    {
      "cell_type": "code",
      "source": [],
      "metadata": {
        "id": "htntJ5IRfIbB"
      },
      "execution_count": null,
      "outputs": []
    }
  ]
}