{
  "nbformat": 4,
  "nbformat_minor": 0,
  "metadata": {
    "colab": {
      "private_outputs": true,
      "provenance": []
    },
    "kernelspec": {
      "name": "python3",
      "display_name": "Python 3"
    },
    "language_info": {
      "name": "python"
    }
  },
  "cells": [
    {
      "cell_type": "markdown",
      "source": [
        "##Variables"
      ],
      "metadata": {
        "id": "l2v34tIRmyfc"
      }
    },
    {
      "cell_type": "markdown",
      "source": [
        "1.Create a variable called break and assign it a value 5. See what happens and find out the reason behind the behavior that you see."
      ],
      "metadata": {
        "id": "F5zgcKEsm7js"
      }
    },
    {
      "cell_type": "code",
      "source": [
        "break=5"
      ],
      "metadata": {
        "id": "ehgxier2m5I7"
      },
      "execution_count": null,
      "outputs": []
    },
    {
      "cell_type": "markdown",
      "source": [
        "2.Create two variables. One to store your birth year and another one to store current year. Now calculate your age using these two variables"
      ],
      "metadata": {
        "id": "iC4w4dBUnE3k"
      }
    },
    {
      "cell_type": "code",
      "source": [
        "a=2002\n",
        "b=2025\n",
        "c=b-a\n",
        "print(f\"The current age of the person is {c}\")"
      ],
      "metadata": {
        "id": "E5Bjb4R5nCd6"
      },
      "execution_count": null,
      "outputs": []
    },
    {
      "cell_type": "markdown",
      "source": [
        "3.Store your first, middle and last name in three different variables and then print your full name using these variables"
      ],
      "metadata": {
        "id": "_atzkIVTnmTz"
      }
    },
    {
      "cell_type": "code",
      "source": [
        "f_name=\"Shah\"\n",
        "m_name=\"Rukh\"\n",
        "l_name=\"Khan\"\n",
        "print(f\"the name of the person is {f_name}{m_name}{l_name}\")"
      ],
      "metadata": {
        "id": "-rk4qL0innRK"
      },
      "execution_count": null,
      "outputs": []
    }
  ]
}