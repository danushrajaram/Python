{
  "nbformat": 4,
  "nbformat_minor": 0,
  "metadata": {
    "colab": {
      "private_outputs": true,
      "provenance": []
    },
    "kernelspec": {
      "name": "python3",
      "display_name": "Python 3"
    },
    "language_info": {
      "name": "python"
    }
  },
  "cells": [
    {
      "cell_type": "markdown",
      "source": [
        "Exercise: Multiple Inheritance\n",
        "\n",
        "Create multiple inheritance on teacher,student and youtuber.\n",
        "\n",
        "Q. if we have created teacher and now one student joins master degree with becoming teacher then what??\n",
        "\n",
        "Ans :  just make subclass from  teacher so that student will become teacher\n",
        "\n",
        "Now student is teacher as well as youtuber then what???\n",
        "\n",
        "-just use multiple inheritance for these three relations\n",
        "\n",
        "Solution"
      ],
      "metadata": {
        "id": "jW8ZX8tk4ATX"
      }
    },
    {
      "cell_type": "code",
      "source": [
        "class Teacher:\n",
        "    def __init__(self, name, age, profession):\n",
        "        self.age = age\n",
        "        self.name = name\n",
        "        self.profession = profession\n",
        "\n",
        "class Student(Teacher):\n",
        "    def __init__(self, name, age, profession):\n",
        "        super().__init__(name, age, profession)  # Corrected: Removed 'self' and fixed argument order\n",
        "        if age > 25:\n",
        "            print(f\"You are a teacher- {name}\")\n",
        "        else:\n",
        "            print(f\"You are a student - {name}\")\n",
        "\n",
        "class Youtuber(Teacher):\n",
        "    def __init__(self, name, age, profession):\n",
        "        super().__init__(name, age, profession)  # Corrected: Removed 'self' and fixed argument order\n",
        "        if profession == \"Youtube\":\n",
        "            print(f\"You are a teacher and Youtuber - {name}\")\n",
        "        else:\n",
        "            print(f\"You are only a teacher- {name}\")\n",
        "\n",
        "# Testing the classes\n",
        "a = Student(\"Danush\", 22, \"Youtuber\")\n",
        "b = Youtuber(\"Gokul\", 26, \"Teacher\")\n",
        "c= Youtuber(\"Rohith\",26,\"Youtube\")\n"
      ],
      "metadata": {
        "id": "hrEpx0DB5_nY"
      },
      "execution_count": null,
      "outputs": []
    },
    {
      "cell_type": "code",
      "source": [
        "# Base class: Teacher\n",
        "class Teacher:\n",
        "    def teach(self):\n",
        "        print(\"I can teach subjects.\")\n",
        "\n",
        "# Base class: Student\n",
        "class Student:\n",
        "    def study(self):\n",
        "        print(\"I can study subjects.\")\n",
        "\n",
        "# Base class: Youtuber\n",
        "class Youtuber:\n",
        "    def make_videos(self):\n",
        "        print(\"I can create YouTube videos.\")\n",
        "\n",
        "# Multiple Inheritance\n",
        "class TeacherStudentYoutuber(Teacher, Student, Youtuber):\n",
        "    def introduce(self):\n",
        "        print(\"I am a teacher, student, and a YouTuber!\")\n",
        "\n",
        "# Create an instance\n",
        "person = TeacherStudentYoutuber()\n",
        "\n",
        "# Call methods from all parent classes\n",
        "person.introduce()\n",
        "person.teach()\n",
        "person.study()\n",
        "person.make_videos()\n"
      ],
      "metadata": {
        "id": "OVHJKFWyBNNq"
      },
      "execution_count": null,
      "outputs": []
    }
  ]
}