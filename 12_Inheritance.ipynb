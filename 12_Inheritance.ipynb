{
  "nbformat": 4,
  "nbformat_minor": 0,
  "metadata": {
    "colab": {
      "private_outputs": true,
      "provenance": []
    },
    "kernelspec": {
      "name": "python3",
      "display_name": "Python 3"
    },
    "language_info": {
      "name": "python"
    }
  },
  "cells": [
    {
      "cell_type": "markdown",
      "source": [
        "create inheritance using animal Dog relation.\n",
        "for example,\n",
        "    Animal and Dog both has same habitat so create a method for habitat\n",
        "use super() constructor for calling parent constructor.\n",
        "class Animal:\n",
        "    #code\n",
        "\n",
        "class Dog(Animal):\n",
        "  \n",
        "    super()-it refers Animal class,now you can call Animal's methods.\n"
      ],
      "metadata": {
        "id": "BB_iD4Qiz3EA"
      }
    },
    {
      "cell_type": "code",
      "source": [
        "class Animal:\n",
        "    def __init__(self, habitat):\n",
        "        self.habitat = habitat\n",
        "\n",
        "    def print_habitat(self):\n",
        "        print(self.habitat)\n",
        "\n",
        "    def sound(self):\n",
        "        print(\"It is a Pet Animal\")\n",
        "\n",
        "class Dog(Animal):\n",
        "    def __init__(self):\n",
        "        super().__init__(\"I do love my pet, he is my friend\")\n",
        "\n",
        "    def sound(self):\n",
        "        print(\"Woof Woof\")\n",
        "\n",
        "d = Dog()\n",
        "d.print_habitat()\n",
        "d.sound()\n",
        "\n",
        "a = Animal(\"Wild\")  # Providing a habitat for the Animal instance\n",
        "a.print_habitat()\n",
        "a.sound()\n"
      ],
      "metadata": {
        "id": "DFCN3mHL0IPo"
      },
      "execution_count": null,
      "outputs": []
    },
    {
      "cell_type": "code",
      "source": [
        "class Animal:\n",
        "    def __init__(self, habitat):\n",
        "        self.habitat = habitat\n",
        "\n",
        "    def print_habitat(self):\n",
        "        print(self.habitat)\n",
        "\n",
        "    def sound(self):\n",
        "        print(\"Some Animal Sound\")\n",
        "\n",
        "\n",
        "class Dog(Animal):\n",
        "    def __init__(self):\n",
        "        super().__init__(\"Kennel\")\n",
        "\n",
        "    def sound(self):\n",
        "        print(\"Woof woof!\")\n",
        "\n",
        "\n",
        "x = Dog()\n",
        "x.print_habitat()\n",
        "x.sound()"
      ],
      "metadata": {
        "id": "f_j_NVnH1RJl"
      },
      "execution_count": null,
      "outputs": []
    },
    {
      "cell_type": "code",
      "source": [
        "class Person:\n",
        "  def __init__(self, fname, lname):\n",
        "    self.firstname = fname\n",
        "    self.lastname = lname\n",
        "\n",
        "  def printname(self):\n",
        "    print(self.firstname, self.lastname)\n",
        "\n",
        "#Use the Person class to create an object, and then execute the printname method:\n",
        "\n",
        "x = Person(\"John\", \"Doe\")\n",
        "x.printname()"
      ],
      "metadata": {
        "id": "NK90friv0YP_"
      },
      "execution_count": null,
      "outputs": []
    },
    {
      "cell_type": "code",
      "source": [
        "class Student(Person):\n",
        "  def __init__(self, fname, lname, year):\n",
        "    super().__init__(fname, lname)\n",
        "    self.graduationyear = year\n",
        "\n",
        "  def welcome(self):\n",
        "    print(\"Welcome\", self.firstname, self.lastname, \"to the class of\", self.graduationyear)\n",
        "\n",
        "c=Student(\"Danush\",\"Rajaram\",2022)\n",
        "c.welcome()"
      ],
      "metadata": {
        "id": "CxmavoRS24ub"
      },
      "execution_count": null,
      "outputs": []
    },
    {
      "cell_type": "code",
      "source": [
        "\n",
        "class Person:\n",
        "    def __init__(self, fname, lname):\n",
        "        self.fname = fname  # Store first name\n",
        "        self.lname = lname  # Store last name\n",
        "\n",
        "class Student(Person):\n",
        "    def __init__(self, fname, lname, year):\n",
        "        super().__init__(fname, lname)  # Call parent class's __init__\n",
        "        self.graduationyear = year      # Store graduation year\n",
        "\n",
        "x = Student(\"Mike\", \"Olsen\", 2019)\n",
        "print(x.fname)  # Correct way to access a variable\n",
        "print(x.lname)  # Accessing last name\n",
        "print(x.graduationyear)  # Accessing graduation year\n"
      ],
      "metadata": {
        "id": "JyHVg7ss3GMk"
      },
      "execution_count": null,
      "outputs": []
    }
  ]
}