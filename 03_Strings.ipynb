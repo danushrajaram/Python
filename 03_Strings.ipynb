{
  "nbformat": 4,
  "nbformat_minor": 0,
  "metadata": {
    "colab": {
      "private_outputs": true,
      "provenance": []
    },
    "kernelspec": {
      "name": "python3",
      "display_name": "Python 3"
    },
    "language_info": {
      "name": "python"
    }
  },
  "cells": [
    {
      "cell_type": "markdown",
      "source": [
        "##Strings\n"
      ],
      "metadata": {
        "id": "l2v34tIRmyfc"
      }
    },
    {
      "cell_type": "markdown",
      "source": [
        "1. Create 3 variables to store street, city and country, now create address variable to store entire address.\n",
        "Use two ways of creating this variable, one using + operator and the other using f-string.\n",
        "Now Print the address in such a way that the street, city and country prints in a separate line"
      ],
      "metadata": {
        "id": "F5zgcKEsm7js"
      }
    },
    {
      "cell_type": "code",
      "source": [
        "street = \"12, Dubai Twisting Lane\"\n",
        "city = \"Dubai\"\n",
        "country = \"United Arab Emirates\"\n",
        "\n",
        "address_plus = street + \"\\n\" + city + \"\\n\" + country\n",
        "\n",
        "address_fstring = f\"{street}\\n{city}\\n{country}\"\n",
        "\n",
        "print(\"Address using + operator:\")\n",
        "print(address_plus)\n",
        "\n",
        "print(\"\\nAddress using f-string:\")\n",
        "print(address_fstring)"
      ],
      "metadata": {
        "id": "444jgeEUobwh"
      },
      "execution_count": null,
      "outputs": []
    },
    {
      "cell_type": "markdown",
      "source": [
        "2.Create a variable to store the string \"Earth revolves around the sun\"\n",
        "Print \"revolves\" using slice operator\n",
        "Print \"sun\" using negative index"
      ],
      "metadata": {
        "id": "J2A3yXXOpXcu"
      }
    },
    {
      "cell_type": "code",
      "source": [
        "string= \"Earth revolves around the sun\"\n",
        "print(string[6:14])\n",
        "print(string[-3:])"
      ],
      "metadata": {
        "id": "098_KPDupYvN"
      },
      "execution_count": null,
      "outputs": []
    },
    {
      "cell_type": "markdown",
      "source": [
        "3. 3. Create two variables to store how many fruits and vegetables you eat in a day.\n",
        "\n",
        "Now Print \"I eat x veggies and y fruits daily\" where x and y presents vegetables and fruits that you eat everyday.\n",
        "\n",
        "Use python f string for this."
      ],
      "metadata": {
        "id": "7b-gc27tqLIt"
      }
    },
    {
      "cell_type": "code",
      "source": [
        "fruits=2\n",
        "vegetables=5\n",
        "print(f\" I eat {vegetables} veggies and {fruits} daily\")"
      ],
      "metadata": {
        "id": "KYO8sgH8pmxP"
      },
      "execution_count": null,
      "outputs": []
    },
    {
      "cell_type": "markdown",
      "source": [
        " 4. I have a string variable called s='maine 200 banana khaye'. This of course is a\n",
        " wrong statement, the correct statement is 'maine 10 samosa khaye'.\n",
        "\n",
        " Replace incorrect words in original strong with new ones and print the new string.\n",
        "\n",
        "Also try to do this in one line."
      ],
      "metadata": {
        "id": "EogRvBacrbjs"
      }
    },
    {
      "cell_type": "code",
      "source": [
        "str='maine 200 banana khaye'\n",
        "str=str.replace('banana','samosa')\n",
        "str=str.replace('200','10')\n",
        "print(\"Using two line replace:\",str)"
      ],
      "metadata": {
        "id": "gUB670GirmCz"
      },
      "execution_count": null,
      "outputs": []
    },
    {
      "cell_type": "code",
      "source": [
        "str='maine 200 banana khaye'\n",
        "str=str.replace('banana','samosa').replace('200','10')\n",
        "print(\"Using single line:\",str)"
      ],
      "metadata": {
        "id": "tzCduul1uay_"
      },
      "execution_count": null,
      "outputs": []
    }
  ]
}