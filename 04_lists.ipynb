{
  "nbformat": 4,
  "nbformat_minor": 0,
  "metadata": {
    "colab": {
      "private_outputs": true,
      "provenance": []
    },
    "kernelspec": {
      "name": "python3",
      "display_name": "Python 3"
    },
    "language_info": {
      "name": "python"
    }
  },
  "cells": [
    {
      "cell_type": "markdown",
      "source": [
        " 1. Let us say your expense for every month are listed below,\n",
        " \t1. January -  2200\n",
        "  \t2. February - 2350\n",
        "     3. March - 2600\n",
        "     4. April - 2130\n",
        "     5. May - 2190\n",
        "\n",
        " Create a list to store these monthly expenses and using that find out,\n",
        "\n",
        " 1. In Feb, how many dollars you spent extra compare to January?\n",
        " 2. Find out your total expense in first quarter (first three months) of the year.\n",
        " 3. Find out if you spent exactly 2000 dollars in any month\n",
        " 4. June month just finished and your expense is 1980 dollar. Add this item to our monthly expense list\n",
        " 5. You returned an item that you bought in a month of April and\n",
        " got a refund of 200$. Make a correction to your monthly expense list\n",
        " based on this"
      ],
      "metadata": {
        "id": "F5zgcKEsm7js"
      }
    },
    {
      "cell_type": "code",
      "source": [
        "expenses=[2200,2350,2600,2130,2190]\n",
        "\n",
        "print(f\"the dollars i have extra compared to january is {expenses[1]-expenses[0]}\")\n",
        "\n",
        "print(f\"Total expense in first quarter of 3 months of the year {expenses[0]+expenses[1]+expenses[2]}\")\n",
        "\n",
        "print(f\"Is 2000 in the list of expenses? {'Yes' if 2000 in expenses else 'No'}\")\n",
        "\n",
        "expenses.append(\"1980\")\n",
        "print(\"Expenses at the end of June:\",expenses)\n",
        "\n",
        "expenses[3] = expenses[3] - 200\n",
        "print(\"Expenses after 200$ return in April:\",expenses) # [2200, 2350, 2600, 1930, 2190, 1980]"
      ],
      "metadata": {
        "id": "444jgeEUobwh"
      },
      "execution_count": null,
      "outputs": []
    },
    {
      "cell_type": "markdown",
      "source": [
        "You have a list of your favourite marvel super heros.\n",
        "heros=['spider man','thor','hulk','iron man','captain america']\n",
        "Using this find out,\n",
        "\n",
        "1. Length of the list\n",
        "2. Add 'black panther' at the end of this list\n",
        "3. You realize that you need to add 'black panther' after 'hulk',\n",
        "   so remove it from the list first and then add it after 'hulk'\n",
        "4. Now you don't like thor and hulk because they get angry easily :)\n",
        "   So you want to remove thor and hulk from list and replace them with doctor strange (because he is cool).\n",
        "   Do that with one line of code.\n",
        "5. Sort the heros list in alphabetical order (Hint. Use dir() functions to list down all functions available in list)\n",
        "Solution"
      ],
      "metadata": {
        "id": "J2A3yXXOpXcu"
      }
    },
    {
      "cell_type": "code",
      "source": [
        "heros=['spider man','thor','hulk','iron man','captain america']\n",
        "\n",
        "print(len(heros))\n",
        "\n",
        "heros.append(\"black panther\")\n",
        "print(heros)\n",
        "\n",
        "heros[1:3]=['doctor strange']\n",
        "print(heros)\n",
        "\n",
        "heros.sort()\n",
        "print(heros)            # Prints the sorted list"
      ],
      "metadata": {
        "id": "wHgaDFOgwbnV"
      },
      "execution_count": null,
      "outputs": []
    }
  ]
}