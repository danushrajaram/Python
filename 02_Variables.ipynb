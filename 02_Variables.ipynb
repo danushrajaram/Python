{
  "nbformat": 4,
  "nbformat_minor": 0,
  "metadata": {
    "colab": {
      "private_outputs": true,
      "provenance": []
    },
    "kernelspec": {
      "name": "python3",
      "display_name": "Python 3"
    },
    "language_info": {
      "name": "python"
    }
  },
  "cells": [
    {
      "cell_type": "markdown",
      "source": [
        "##Numbers"
      ],
      "metadata": {
        "id": "l2v34tIRmyfc"
      }
    },
    {
      "cell_type": "markdown",
      "source": [
        "1. You have a football field that is 92 meter long and 48.8 meter wide. Find out total area using python and print it."
      ],
      "metadata": {
        "id": "F5zgcKEsm7js"
      }
    },
    {
      "cell_type": "code",
      "source": [
        "l=float(input(\"Enter the Length of the Football field \"))\n",
        "w=float(input(\"Enter the wide of the Football field \"))\n",
        "a=float(l*w)\n",
        "print(f\"The are of the football field is {a:.2f} m.sq\")"
      ],
      "metadata": {
        "id": "444jgeEUobwh"
      },
      "execution_count": null,
      "outputs": []
    },
    {
      "cell_type": "markdown",
      "source": [
        "2.You bought 9 packets of potato chips from a store. Each packet costs 1.49 dollar and you gave shopkeeper 20 dollar. Find out using python, how many dollars is the shopkeeper going to give you back?"
      ],
      "metadata": {
        "id": "J2A3yXXOpXcu"
      }
    },
    {
      "cell_type": "code",
      "source": [
        "total_packets=9\n",
        "costper_packet=1.49\n",
        "amount_given=20\n",
        "shopkeeper_return = amount_given-(total_packets*costper_packet)\n",
        "print(f\"the remaining shoperkeeper has to return you is {shopkeeper_return} dollars\")"
      ],
      "metadata": {
        "id": "098_KPDupYvN"
      },
      "execution_count": null,
      "outputs": []
    },
    {
      "cell_type": "markdown",
      "source": [
        "3. You want to replace tiles in your bathroom which is exactly square and 5.5 feet\n",
        "- is its length. If tiles cost 500 rs per square feet, how much will be the total\n",
        "\n",
        "- cost to replace all tiles. Calculate and print the cost using python\n",
        "- Hint: Use power operator (**) to find area of a square"
      ],
      "metadata": {
        "id": "7b-gc27tqLIt"
      }
    },
    {
      "cell_type": "code",
      "source": [
        "tile_length=5.5\n",
        "tile_cost_per_square_feet=500\n",
        "area=tile_length**2\n",
        "total_cost_replacement=area*500\n",
        "print(f\"the total cost for the tile replacement for the area - {area} is {total_cost_replacement} dollars\")"
      ],
      "metadata": {
        "id": "KYO8sgH8pmxP"
      },
      "execution_count": null,
      "outputs": []
    },
    {
      "cell_type": "markdown",
      "source": [
        "4. Print binary representation of number 17"
      ],
      "metadata": {
        "id": "EogRvBacrbjs"
      }
    },
    {
      "cell_type": "code",
      "source": [
        "num=16\n",
        "print('Binary of number 17 is:',format(num,'b')) # Ans: 10001"
      ],
      "metadata": {
        "id": "gUB670GirmCz"
      },
      "execution_count": null,
      "outputs": []
    }
  ]
}